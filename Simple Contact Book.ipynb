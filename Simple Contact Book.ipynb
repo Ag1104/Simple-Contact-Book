{
 "cells": [
  {
   "cell_type": "code",
   "execution_count": 3,
   "id": "77b170b0",
   "metadata": {},
   "outputs": [
    {
     "name": "stdout",
     "output_type": "stream",
     "text": [
      "Type 'search' to find user details. Type 'view' to view user details and Type 'add' to add new user:\n",
      "add\n",
      "Enter new user name: Wale Adedeji\n",
      "Enter new user number: 09034234567\n",
      "Wale Adedeji with the number 09034234567 has been successfully added!\n"
     ]
    }
   ],
   "source": [
    "storage = {\n",
    "    \"Gideon Aremu\":\"09154344941\",\n",
    "    \"Ekojawe Ephraim\": \"08023451094\",\n",
    "    \"Kehinde Paul\": \"07045364526\",\n",
    "}\n",
    "search = input(\"Type 'search' to find user details. Type 'view' to view user details and Type 'add' to add new user:\\n\").casefold()\n",
    "if search == \"add\":\n",
    "    add_name = input(\"Enter new user name: \")\n",
    "    add_number = input(\"Enter new user number: \")\n",
    "    storage.update({add_name:add_number})\n",
    "    print(f\"{add_name} with the number {add_number} has been successfully added!\")\n",
    "elif search == \"search\":\n",
    "    s = (input(\"Enter details to search: \"))\n",
    "    print(f\"{storage[s]}\")\n",
    "elif search == \"view\":\n",
    "    print(f\"The Contact Details available are:\\n{storage}\")\n",
    "else:\n",
    "    print(\"Thank you for your time!\")"
   ]
  },
  {
   "cell_type": "code",
   "execution_count": 4,
   "id": "f140d71c",
   "metadata": {},
   "outputs": [
    {
     "data": {
      "text/plain": [
       "{'Gideon Aremu': '09154344941',\n",
       " 'Ekojawe Ephraim': '08023451094',\n",
       " 'Kehinde Paul': '07045364526',\n",
       " 'Wale Adedeji': '09034234567'}"
      ]
     },
     "execution_count": 4,
     "metadata": {},
     "output_type": "execute_result"
    }
   ],
   "source": [
    "storage"
   ]
  },
  {
   "cell_type": "code",
   "execution_count": null,
   "id": "61778f50",
   "metadata": {},
   "outputs": [],
   "source": []
  }
 ],
 "metadata": {
  "kernelspec": {
   "display_name": "Python 3 (ipykernel)",
   "language": "python",
   "name": "python3"
  },
  "language_info": {
   "codemirror_mode": {
    "name": "ipython",
    "version": 3
   },
   "file_extension": ".py",
   "mimetype": "text/x-python",
   "name": "python",
   "nbconvert_exporter": "python",
   "pygments_lexer": "ipython3",
   "version": "3.11.5"
  }
 },
 "nbformat": 4,
 "nbformat_minor": 5
}
